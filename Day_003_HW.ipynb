{
  "nbformat": 4,
  "nbformat_minor": 0,
  "metadata": {
    "kernelspec": {
      "display_name": "Python 3",
      "language": "python",
      "name": "python3"
    },
    "language_info": {
      "codemirror_mode": {
        "name": "ipython",
        "version": 3
      },
      "file_extension": ".py",
      "mimetype": "text/x-python",
      "name": "python",
      "nbconvert_exporter": "python",
      "pygments_lexer": "ipython3",
      "version": "3.7.0"
    },
    "colab": {
      "name": "Day_003_HW.ipynb",
      "provenance": [],
      "collapsed_sections": []
    }
  },
  "cells": [
    {
      "cell_type": "markdown",
      "metadata": {
        "id": "0u5wGe39zln1",
        "colab_type": "text"
      },
      "source": [
        "## [作業目標]\n",
        "持續接觸有關機器學習的相關專案與最新技術"
      ]
    },
    {
      "cell_type": "markdown",
      "metadata": {
        "id": "08oTaqJBzln2",
        "colab_type": "text"
      },
      "source": [
        "## [作業重點]\n",
        "透過觀察頂尖公司的機器學習文章，來了解各公司是怎麼應用機器學習在實際的專案上"
      ]
    },
    {
      "cell_type": "markdown",
      "metadata": {
        "id": "OEHKaDtVzln3",
        "colab_type": "text"
      },
      "source": [
        "## [作業]\n",
        "今天的作業希望大家能夠看看全球機器學習巨頭們在做的機器學習專案。以 google 為例，下圖是 Google 內部專案使用機器學習的數量，隨著時間進展，現在早已超過 2000 個專案在使用機器學習。"
      ]
    },
    {
      "cell_type": "markdown",
      "metadata": {
        "id": "KPt08n5Mzln4",
        "colab_type": "text"
      },
      "source": [
        "![image](https://cdn-images-1.medium.com/max/800/1*U_L8qI8RmYS-MOBrYvXhSA.png)"
      ]
    },
    {
      "cell_type": "markdown",
      "metadata": {
        "id": "acLZA1Pazln4",
        "colab_type": "text"
      },
      "source": [
        "底下幫同學整理幾間知名企業的 blog 或機器學習網站 (自行搜尋也可)，這些網站都會整理最新的機器學習專案或者是技術文章，請挑選一篇文章閱讀並試著回答\n",
        "1. 專案的目標？ (要解決什麼問題）\n",
        "2. 使用的技術是？ (只需知道名稱即可，例如：使用 CNN 卷積神經網路做影像分類)\n",
        "3. 資料來源？ "
      ]
    },
    {
      "cell_type": "markdown",
      "metadata": {
        "id": "7mK4CA6Gzln5",
        "colab_type": "text"
      },
      "source": [
        "- [Google AI blog](https://ai.googleblog.com/)\n",
        "- [Facebook Research blog](https://research.fb.com/blog/)\n",
        "- [Apple machine learning journal](https://machinelearning.apple.com/)\n",
        "- [機器之心](https://www.jiqizhixin.com/)\n",
        "- [雷鋒網](http://www.leiphone.com/category/ai)"
      ]
    },
    {
      "cell_type": "code",
      "metadata": {
        "id": "BsR8_O_vzln6",
        "colab_type": "code",
        "colab": {}
      },
      "source": [
        "挑選 Facebook Research blog的\n",
        "https://research.fb.com/blog/2020/08/announcing-the-winners-of-the-economic-impact-of-digital-technologies-request-for-proposals/\n",
        "topic: Announcing the winners of the Economic Impact of Digital Technologies request for proposals\n",
        "\n",
        "1.專案的目標? \n",
        "  資助在covid-19衝擊下，使用社交媒體和數位技術來接觸顧客，以維持經濟循環的中小企業。\n",
        "2.使用的技術是？ \n",
        "  fb收到來自39個國家/189個提案，各有所不同;包括:稀有類型的公司對他們接觸型的消費者所使用的廣告策略 到小型公司使用非接觸式的付款方式。\n",
        "  提議有得獎者如下:\n",
        "    數位銷售及庫存技術,評估中小企業信用度;\n",
        "    危機時期社交媒體的營銷對業務增長影響;\n",
        "    非接觸式支付對小企業服務的影響;\n",
        "    比較數據驅動的廣告和上下文廣告對小型餐廳的影響;\n",
        "    業務敏捷性,數據驅動和數字廣告的關鍵作用。\n",
        "3. 資料來源？\n",
        "   Facebook Research"
      ],
      "execution_count": null,
      "outputs": []
    }
  ]
}